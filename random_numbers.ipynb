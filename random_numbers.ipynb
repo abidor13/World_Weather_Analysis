{
 "cells": [
  {
   "cell_type": "code",
   "execution_count": 1,
   "id": "8babc59a",
   "metadata": {},
   "outputs": [],
   "source": [
    "# Import the random module.\n",
    "import random"
   ]
  },
  {
   "cell_type": "code",
   "execution_count": 2,
   "id": "31a160c7",
   "metadata": {},
   "outputs": [
    {
     "data": {
      "text/plain": [
       "5"
      ]
     },
     "execution_count": 2,
     "metadata": {},
     "output_type": "execute_result"
    }
   ],
   "source": [
    "random.randint(-90,90)\n"
   ]
  },
  {
   "cell_type": "code",
   "execution_count": 3,
   "id": "b36a793e",
   "metadata": {},
   "outputs": [
    {
     "data": {
      "text/plain": [
       "0.9218997284960404"
      ]
     },
     "execution_count": 3,
     "metadata": {},
     "output_type": "execute_result"
    }
   ],
   "source": [
    "random.random()"
   ]
  },
  {
   "cell_type": "code",
   "execution_count": 4,
   "id": "2f0385c5",
   "metadata": {},
   "outputs": [
    {
     "data": {
      "text/plain": [
       "-59.53644050514629"
      ]
     },
     "execution_count": 4,
     "metadata": {},
     "output_type": "execute_result"
    }
   ],
   "source": [
    "# Combining random.randint and random.random to get a floating point decimal between -90 and 90\n",
    "\n",
    "random_number = random.randint(-90,89) + random.random()\n",
    "random_number\n"
   ]
  },
  {
   "cell_type": "code",
   "execution_count": 13,
   "id": "149ba286",
   "metadata": {},
   "outputs": [
    {
     "data": {
      "text/plain": [
       "[61.42425626571562,\n",
       " 56.34322152571981,\n",
       " -34.333060250993135,\n",
       " 20.28242455370024,\n",
       " -74.3160658554445,\n",
       " -66.2777389474115,\n",
       " -66.64655457812673,\n",
       " -54.44650187121455,\n",
       " 53.10969439280339,\n",
       " 76.96646287003487]"
      ]
     },
     "execution_count": 13,
     "metadata": {},
     "output_type": "execute_result"
    }
   ],
   "source": [
    "# Example of how to generate latitudes between -90 & 89, ten times.. or 10 random floating decimal latitudes:\n",
    "\n",
    "x = 1\n",
    "latitudes = []\n",
    "while x < 11:\n",
    "    random_lat = random.randint(-90,89) + random.random()\n",
    "    latitudes.append(random_lat)\n",
    "    x += 1\n",
    "    \n",
    "latitudes"
   ]
  },
  {
   "cell_type": "code",
   "execution_count": 14,
   "id": "4ea3b244",
   "metadata": {},
   "outputs": [
    {
     "data": {
      "text/plain": [
       "-36"
      ]
     },
     "execution_count": 14,
     "metadata": {},
     "output_type": "execute_result"
    }
   ],
   "source": [
    "# Randrange() Function\n",
    "random.randrange(-90, 90, step=3)"
   ]
  },
  {
   "cell_type": "code",
   "execution_count": 15,
   "id": "ed901b0a",
   "metadata": {},
   "outputs": [
    {
     "data": {
      "text/plain": [
       "63.49122103023498"
      ]
     },
     "execution_count": 15,
     "metadata": {},
     "output_type": "execute_result"
    }
   ],
   "source": [
    "random_range = random.randrange(-90, 90, step=3) + random.random()\n",
    "random_range"
   ]
  },
  {
   "cell_type": "code",
   "execution_count": 18,
   "id": "12554557",
   "metadata": {},
   "outputs": [
    {
     "data": {
      "text/plain": [
       "88.54305581057386"
      ]
     },
     "execution_count": 18,
     "metadata": {},
     "output_type": "execute_result"
    }
   ],
   "source": [
    "# Uniform Function\n",
    "random.uniform(-90, 90)"
   ]
  },
  {
   "cell_type": "code",
   "execution_count": 19,
   "id": "38daf72a",
   "metadata": {},
   "outputs": [],
   "source": [
    "# Import the NumPy module.\n",
    "\n",
    "import numpy as np"
   ]
  },
  {
   "cell_type": "code",
   "execution_count": 20,
   "id": "9d26a9d9",
   "metadata": {},
   "outputs": [
    {
     "data": {
      "text/plain": [
       "54.0146137666396"
      ]
     },
     "execution_count": 20,
     "metadata": {},
     "output_type": "execute_result"
    }
   ],
   "source": [
    "np.random.uniform(-90.000,90.000)"
   ]
  },
  {
   "cell_type": "code",
   "execution_count": 21,
   "id": "0b20fb1a",
   "metadata": {},
   "outputs": [
    {
     "data": {
      "text/plain": [
       "array([-35.34430084, -26.39790542,  39.75027686,  36.07825788,\n",
       "        -1.82596669, -47.84891369, -82.9037242 , -58.05374278,\n",
       "       -21.9509597 , -16.21938405, -28.84058631, -68.32765138,\n",
       "        26.58928741,  54.30513133, -12.7305297 ,  24.96002762,\n",
       "        -6.9135838 ,  89.84190736, -63.14073593,  68.47079642,\n",
       "       -34.03441192, -52.33676449, -76.44759965, -30.27842413,\n",
       "        14.77319514,  68.18283118,  84.60148458, -88.41932698,\n",
       "       -64.92416208, -12.08855151, -12.05314846,  65.55319533,\n",
       "         0.73385739, -16.63280395,  66.93682038, -37.45855649,\n",
       "        83.40885921,  68.12299755,  66.89728304,  21.63932313,\n",
       "       -66.27284359,  26.16859322,  32.42293432, -82.21348653,\n",
       "       -30.22240341, -22.33319574, -23.63292473, -51.17509059,\n",
       "       -36.03321522, -60.93945042])"
      ]
     },
     "execution_count": 21,
     "metadata": {},
     "output_type": "execute_result"
    }
   ],
   "source": [
    "np.random.uniform(-90.000, 90.000, size=50)"
   ]
  },
  {
   "cell_type": "code",
   "execution_count": 22,
   "id": "2e455913",
   "metadata": {},
   "outputs": [],
   "source": [
    "# Import timeit.\n",
    "\n",
    "import timeit"
   ]
  },
  {
   "cell_type": "code",
   "execution_count": 23,
   "id": "0aaf94d4",
   "metadata": {},
   "outputs": [
    {
     "name": "stdout",
     "output_type": "stream",
     "text": [
      "13.8 µs ± 562 ns per loop (mean ± std. dev. of 7 runs, 100,000 loops each)\n"
     ]
    }
   ],
   "source": [
    "%timeit np.random.uniform(-90.000, 90.000, size=1500)"
   ]
  },
  {
   "cell_type": "code",
   "execution_count": 24,
   "id": "e3a6c50d",
   "metadata": {},
   "outputs": [
    {
     "name": "stdout",
     "output_type": "stream",
     "text": [
      "1.26 ms ± 54.5 µs per loop (mean ± std. dev. of 7 runs, 1,000 loops each)\n"
     ]
    }
   ],
   "source": [
    "def latitudes(size):\n",
    "    latitudes = []\n",
    "    x = 0\n",
    "    while x < (size):\n",
    "        random_lat = random.randint(-90, 90) + random.random()\n",
    "        latitudes.append(random_lat)\n",
    "        x += 1\n",
    "    return latitudes\n",
    "# Call the function with 1500.\n",
    "%timeit latitudes(1500)"
   ]
  },
  {
   "cell_type": "code",
   "execution_count": 25,
   "id": "27ac9637",
   "metadata": {},
   "outputs": [],
   "source": [
    "# Refactor the code for the while loop with the %timeit magic command and write a for loop that will generate the 1,500 latitudes."
   ]
  },
  {
   "cell_type": "code",
   "execution_count": null,
   "id": "e8feca82",
   "metadata": {},
   "outputs": [],
   "source": []
  }
 ],
 "metadata": {
  "kernelspec": {
   "display_name": "PythonData",
   "language": "python",
   "name": "pythondata"
  },
  "language_info": {
   "codemirror_mode": {
    "name": "ipython",
    "version": 3
   },
   "file_extension": ".py",
   "mimetype": "text/x-python",
   "name": "python",
   "nbconvert_exporter": "python",
   "pygments_lexer": "ipython3",
   "version": "3.9.12"
  }
 },
 "nbformat": 4,
 "nbformat_minor": 5
}
